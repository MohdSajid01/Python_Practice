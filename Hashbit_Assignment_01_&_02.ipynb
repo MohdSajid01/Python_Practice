{
  "nbformat": 4,
  "nbformat_minor": 0,
  "metadata": {
    "colab": {
      "provenance": [],
      "authorship_tag": "ABX9TyP8etQ8erBKhpevyIsy56og",
      "include_colab_link": true
    },
    "kernelspec": {
      "name": "python3",
      "display_name": "Python 3"
    },
    "language_info": {
      "name": "python"
    }
  },
  "cells": [
    {
      "cell_type": "markdown",
      "metadata": {
        "id": "view-in-github",
        "colab_type": "text"
      },
      "source": [
        "<a href=\"https://colab.research.google.com/github/MohdSajid01/Python_Practice/blob/main/Hashbit_Assignment_01_%26_02.ipynb\" target=\"_parent\"><img src=\"https://colab.research.google.com/assets/colab-badge.svg\" alt=\"Open In Colab\"/></a>"
      ]
    },
    {
      "cell_type": "markdown",
      "source": [
        "# Q01  Write a program to iterate the first 10 numbers, and in each iteration, print the sum of the current and previous number."
      ],
      "metadata": {
        "id": "1ne8D9T8LdZS"
      }
    },
    {
      "cell_type": "code",
      "source": [
        "def sum_of_current_and_previous(n):\n",
        "    previous_number = 0\n",
        "    for i in range(1, n + 1):\n",
        "\n",
        "        current_number = i\n",
        "        current_sum = current_number + previous_number\n",
        "\n",
        "\n",
        "        print(f\" {i}: {current_number} + {previous_number} = {current_sum}\")\n",
        "\n",
        "        previous_number = current_number\n",
        "sum_of_current_and_previous(10)\n"
      ],
      "metadata": {
        "colab": {
          "base_uri": "https://localhost:8080/"
        },
        "id": "dtM92klrJ1on",
        "outputId": "142f8281-e49e-4bea-dd37-89e864b55ec9"
      },
      "execution_count": null,
      "outputs": [
        {
          "output_type": "stream",
          "name": "stdout",
          "text": [
            " 1: 1 + 0 = 1\n",
            " 2: 2 + 1 = 3\n",
            " 3: 3 + 2 = 5\n",
            " 4: 4 + 3 = 7\n",
            " 5: 5 + 4 = 9\n",
            " 6: 6 + 5 = 11\n",
            " 7: 7 + 6 = 13\n",
            " 8: 8 + 7 = 15\n",
            " 9: 9 + 8 = 17\n",
            " 10: 10 + 9 = 19\n"
          ]
        }
      ]
    },
    {
      "cell_type": "markdown",
      "source": [
        "# Q02  Write a program to accept a string from the user and display characters that are present at an even index number"
      ],
      "metadata": {
        "id": "w6BsghmQLcKw"
      }
    },
    {
      "cell_type": "code",
      "source": [
        "def display_even_index_characters(input_string):\n",
        "    for i in range(0, len(input_string), 2):\n",
        "        print(f\" {i}: {input_string[i]}\")\n",
        "\n",
        "user_input = input(\" \")\n",
        "\n",
        "display_even_index_characters(user_input)\n"
      ],
      "metadata": {
        "colab": {
          "base_uri": "https://localhost:8080/"
        },
        "id": "vESKdTVMNGv_",
        "outputId": "49185a55-bb25-4c0a-d663-b136bcbc0183"
      },
      "execution_count": null,
      "outputs": [
        {
          "output_type": "stream",
          "name": "stdout",
          "text": [
            " 50\n",
            " 0: 5\n"
          ]
        }
      ]
    },
    {
      "cell_type": "markdown",
      "source": [
        "6# Q03 Write a program to remove characters from a string starting from zero up to n and return a new string"
      ],
      "metadata": {
        "id": "VRWUuhvSRdXi"
      }
    },
    {
      "cell_type": "code",
      "execution_count": null,
      "metadata": {
        "id": "I9zM94GSEkju",
        "colab": {
          "base_uri": "https://localhost:8080/"
        },
        "outputId": "a62ea2b6-d84f-419b-826b-70b5402225c9"
      },
      "outputs": [
        {
          "output_type": "stream",
          "name": "stdout",
          "text": [
            " Hello, World!\n",
            "(after removing first 5 characters): , World!\n"
          ]
        }
      ],
      "source": [
        "def remove_characters(input_string, n):\n",
        "    if n < 0:\n",
        "        raise ValueError(\" \")\n",
        "\n",
        "    new_string = \"\"\n",
        "\n",
        "    for i in range(n, len(input_string)):\n",
        "        new_string += input_string[i]\n",
        "\n",
        "    return new_string\n",
        "\n",
        "input_str = \"Hello, World!\"\n",
        "n = 5\n",
        "result = remove_characters(input_str, n)\n",
        "\n",
        "print(f\" {input_str}\")\n",
        "print(f\"(after removing first {n} characters): {result}\")\n",
        "\n"
      ]
    },
    {
      "cell_type": "markdown",
      "source": [
        "#Q04 Write a function to return Ture if the first and last number of a given list is same. If numbers are different then return False."
      ],
      "metadata": {
        "id": "vrrM6UjRTgrZ"
      }
    },
    {
      "cell_type": "code",
      "source": [
        "def first_and_last_same(input_list):\n",
        "    if not input_list:\n",
        "        return False\n",
        "    first_element = input_list[0]\n",
        "    last_element = input_list[-1]\n",
        "\n",
        "    return first_element == last_element\n",
        "\n",
        "my_list = [1, 2, 3, 4, 1]\n",
        "result = first_and_last_same(my_list)\n",
        "\n",
        "if result:\n",
        "    print(\"True\")\n",
        "else:\n",
        "    print(\"False\")\n"
      ],
      "metadata": {
        "colab": {
          "base_uri": "https://localhost:8080/"
        },
        "id": "B1pgr3VJTvkC",
        "outputId": "7d6a8365-af9a-4b45-e197-be21deb24aa9"
      },
      "execution_count": null,
      "outputs": [
        {
          "output_type": "stream",
          "name": "stdout",
          "text": [
            "True\n"
          ]
        }
      ]
    },
    {
      "cell_type": "markdown",
      "source": [
        "# Q05 Given two list of numbers, write a program to create a new list such that the new list should contain odd numbers from the first list and even numbers from the second list."
      ],
      "metadata": {
        "id": "hcsZE6ktU0Sp"
      }
    },
    {
      "cell_type": "code",
      "source": [
        "def new_list(list1, list2):\n",
        "    new_list = []\n",
        "\n",
        "    for num in list1:\n",
        "        if num % 2 != 0:\n",
        "            new_list.append(num)\n",
        "\n",
        "    for num in list2:\n",
        "        if num % 2 == 0:\n",
        "            new_list.append(num)\n",
        "\n",
        "    return new_list\n",
        "\n",
        "list1 = [1, 2, 3, 4, 5]\n",
        "list2 = [6, 7, 8, 9, 10]\n",
        "\n",
        "result = new_list(list1, list2)\n",
        "\n",
        "print(\"List 1:\", list1)\n",
        "print(\"List 2:\", list2)\n",
        "print(\"New List:\", result)\n"
      ],
      "metadata": {
        "colab": {
          "base_uri": "https://localhost:8080/"
        },
        "id": "GTST7XjbT_NW",
        "outputId": "0199eeb5-a241-4ff6-fb47-10d698d1f15c"
      },
      "execution_count": null,
      "outputs": [
        {
          "output_type": "stream",
          "name": "stdout",
          "text": [
            "List 1: [1, 2, 3, 4, 5]\n",
            "List 2: [6, 7, 8, 9, 10]\n",
            "New List: [1, 3, 5, 6, 8, 10]\n"
          ]
        }
      ]
    },
    {
      "cell_type": "markdown",
      "source": [
        "#Q06  Print multiplication table from 5 to 10"
      ],
      "metadata": {
        "id": "4t0ogJBR8Uhe"
      }
    },
    {
      "cell_type": "code",
      "source": [
        "for i in range(5, 11):\n",
        "    print(f\" {i}:\")\n",
        "\n",
        "    for j in range(1, 11):\n",
        "        result = i * j\n",
        "        print(f\"{i} x {j} = {result}\")\n",
        "\n",
        "    print()\n"
      ],
      "metadata": {
        "id": "QsbGoiJuWcnj",
        "colab": {
          "base_uri": "https://localhost:8080/"
        },
        "outputId": "9a558899-c172-4a6e-d36a-3b3630baa77d"
      },
      "execution_count": null,
      "outputs": [
        {
          "output_type": "stream",
          "name": "stdout",
          "text": [
            " 5:\n",
            "5 x 1 = 5\n",
            "5 x 2 = 10\n",
            "5 x 3 = 15\n",
            "5 x 4 = 20\n",
            "5 x 5 = 25\n",
            "5 x 6 = 30\n",
            "5 x 7 = 35\n",
            "5 x 8 = 40\n",
            "5 x 9 = 45\n",
            "5 x 10 = 50\n",
            "\n",
            " 6:\n",
            "6 x 1 = 6\n",
            "6 x 2 = 12\n",
            "6 x 3 = 18\n",
            "6 x 4 = 24\n",
            "6 x 5 = 30\n",
            "6 x 6 = 36\n",
            "6 x 7 = 42\n",
            "6 x 8 = 48\n",
            "6 x 9 = 54\n",
            "6 x 10 = 60\n",
            "\n",
            " 7:\n",
            "7 x 1 = 7\n",
            "7 x 2 = 14\n",
            "7 x 3 = 21\n",
            "7 x 4 = 28\n",
            "7 x 5 = 35\n",
            "7 x 6 = 42\n",
            "7 x 7 = 49\n",
            "7 x 8 = 56\n",
            "7 x 9 = 63\n",
            "7 x 10 = 70\n",
            "\n",
            " 8:\n",
            "8 x 1 = 8\n",
            "8 x 2 = 16\n",
            "8 x 3 = 24\n",
            "8 x 4 = 32\n",
            "8 x 5 = 40\n",
            "8 x 6 = 48\n",
            "8 x 7 = 56\n",
            "8 x 8 = 64\n",
            "8 x 9 = 72\n",
            "8 x 10 = 80\n",
            "\n",
            " 9:\n",
            "9 x 1 = 9\n",
            "9 x 2 = 18\n",
            "9 x 3 = 27\n",
            "9 x 4 = 36\n",
            "9 x 5 = 45\n",
            "9 x 6 = 54\n",
            "9 x 7 = 63\n",
            "9 x 8 = 72\n",
            "9 x 9 = 81\n",
            "9 x 10 = 90\n",
            "\n",
            " 10:\n",
            "10 x 1 = 10\n",
            "10 x 2 = 20\n",
            "10 x 3 = 30\n",
            "10 x 4 = 40\n",
            "10 x 5 = 50\n",
            "10 x 6 = 60\n",
            "10 x 7 = 70\n",
            "10 x 8 = 80\n",
            "10 x 9 = 90\n",
            "10 x 10 = 100\n",
            "\n"
          ]
        }
      ]
    },
    {
      "cell_type": "markdown",
      "source": [
        "# Q07  Write a program to create a new string made of an input string’s first, middle, and last character"
      ],
      "metadata": {
        "id": "89mg2MtP9FKM"
      }
    },
    {
      "cell_type": "code",
      "source": [
        "def new_string(input_string):\n",
        "    length = len(input_string)\n",
        "\n",
        "    if length < 3:\n",
        "        return \"Input string should have at least 3 characters\"\n",
        "\n",
        "    middle_index = length // 2\n",
        "\n",
        "    first_char = input_string[0]\n",
        "    middle_char = input_string[middle_index]\n",
        "    last_char = input_string[-1]\n",
        "\n",
        "    new_string = first_char + middle_char + last_char\n",
        "\n",
        "    return new_string\n",
        "input_string = input(\" \")\n",
        "result = new_string(input_string)\n",
        "print(\"New string:\", result)\n"
      ],
      "metadata": {
        "colab": {
          "base_uri": "https://localhost:8080/"
        },
        "id": "BxL-7vnU8xOh",
        "outputId": "b9ac37b8-80f9-4352-ae12-90c78990c8b6"
      },
      "execution_count": null,
      "outputs": [
        {
          "output_type": "stream",
          "name": "stdout",
          "text": [
            " 5236\n",
            "New string: 536\n"
          ]
        }
      ]
    },
    {
      "cell_type": "markdown",
      "source": [
        "# Q08 Write a program to count occurrences of all characters within a string"
      ],
      "metadata": {
        "id": "kX7i2Iqu-AUd"
      }
    },
    {
      "cell_type": "code",
      "source": [
        "def count_characters(input_string):\n",
        "    char_count = {}\n",
        "    for char in input_string:\n",
        "        char_count[char] = char_count.get(char, 0) + 1\n",
        "    return char_count\n",
        "input_string = input(\" \")\n",
        "result = count_characters(input_string)\n",
        "print(\" \")\n",
        "for char, count in result.items():\n",
        "    print(f\"{char}: {count}\")\n"
      ],
      "metadata": {
        "colab": {
          "base_uri": "https://localhost:8080/"
        },
        "id": "7psRKMtP9cSX",
        "outputId": "6f7c4e32-ac52-4969-8eb5-f0c51623fd10"
      },
      "execution_count": null,
      "outputs": [
        {
          "output_type": "stream",
          "name": "stdout",
          "text": [
            " 456\n",
            " \n",
            "4: 1\n",
            "5: 1\n",
            "6: 1\n"
          ]
        }
      ]
    },
    {
      "cell_type": "markdown",
      "source": [
        "# Q09 Write a program to reverse a given string"
      ],
      "metadata": {
        "id": "BpL83wJn-b97"
      }
    },
    {
      "cell_type": "code",
      "source": [
        "def reverse_string(input_string):\n",
        "    reversed_string = input_string[::-1]\n",
        "    return reversed_string\n",
        "input_string = input(\" \")\n",
        "result = reverse_string(input_string)\n",
        "print(\" \", result)\n"
      ],
      "metadata": {
        "colab": {
          "base_uri": "https://localhost:8080/"
        },
        "id": "4ljXveQT-Q3u",
        "outputId": "c0346548-e9c3-4314-9119-ad6dab247772"
      },
      "execution_count": null,
      "outputs": [
        {
          "output_type": "stream",
          "name": "stdout",
          "text": [
            " 12345\n",
            "  54321\n"
          ]
        }
      ]
    },
    {
      "cell_type": "markdown",
      "source": [
        "# Q10  Write a program to split a given string on hyphens and display each substring. {ex- Rahul-is-a-doctor}"
      ],
      "metadata": {
        "id": "3bu-3shj-z3U"
      }
    },
    {
      "cell_type": "code",
      "source": [
        "def split_and_display(input_string):\n",
        "    substrings = input_string.split('-')\n",
        "    print(\" \")\n",
        "    for substring in substrings:\n",
        "        print(substring)\n",
        "input_string = input(\" \")\n",
        "split_and_display(input_string)\n"
      ],
      "metadata": {
        "colab": {
          "base_uri": "https://localhost:8080/"
        },
        "id": "u5y8ZD1q-qXA",
        "outputId": "37b7db5d-040d-4191-c7fd-e27b76089e29"
      },
      "execution_count": null,
      "outputs": [
        {
          "output_type": "stream",
          "name": "stdout",
          "text": [
            " i m sajid \n",
            " \n",
            "i m sajid \n"
          ]
        }
      ]
    },
    {
      "cell_type": "markdown",
      "source": [
        "\n",
        "#ASSIGNMENT 02"
      ],
      "metadata": {
        "id": "5oB4iNV8KkR5"
      }
    },
    {
      "cell_type": "markdown",
      "source": [
        "# Q01 Write a program in Python to check given number is prime or not."
      ],
      "metadata": {
        "id": "tiU5XfBKLMH8"
      }
    },
    {
      "cell_type": "code",
      "source": [
        "def prime(number):\n",
        "    if number < 2:\n",
        "        return False\n",
        "    for i in range(2, int(number**0.5) + 1):\n",
        "        if number % i == 0:\n",
        "            return False\n",
        "    return True\n",
        "user_input = int(input(\" \"))\n",
        "\n",
        "if prime(user_input):\n",
        "    print(f\"{user_input} prime number.\")\n",
        "else:\n",
        "    print(f\"{user_input} not prime number.\")\n"
      ],
      "metadata": {
        "colab": {
          "base_uri": "https://localhost:8080/"
        },
        "id": "pMSSNqhhKvLN",
        "outputId": "66b86ca5-31c7-4c4d-b785-cc38849c2650"
      },
      "execution_count": null,
      "outputs": [
        {
          "output_type": "stream",
          "name": "stdout",
          "text": [
            " 5\n",
            "5 prime number.\n"
          ]
        }
      ]
    },
    {
      "cell_type": "markdown",
      "source": [
        "# Q 02  Write a program to print Prime Number in a given range."
      ],
      "metadata": {
        "id": "aujUCtBAhzAD"
      }
    },
    {
      "cell_type": "code",
      "source": [
        "def is_prime(number):\n",
        "    if number < 2:\n",
        "        return False\n",
        "\n",
        "    for i in range(2, int(number**0.5) + 1):\n",
        "        if number % i == 0:\n",
        "            return False\n",
        "\n",
        "    return True\n",
        "\n",
        "def print_prime_numbers_in_range(start, end):\n",
        "    print(f\" range {start} to {end}:\")\n",
        "    for num in range(start, end + 1):\n",
        "        if is_prime(num):\n",
        "            print(num, end=\" \")\n",
        "\n",
        "start_range = int(input(\" \"))\n",
        "end_range = int(input(\" \"))\n",
        "\n",
        "print_prime_numbers_in_range(start_range, end_range)"
      ],
      "metadata": {
        "colab": {
          "base_uri": "https://localhost:8080/"
        },
        "id": "vWATIbYbgyeB",
        "outputId": "1cbfafd1-c584-48d2-839f-95820e0d1395"
      },
      "execution_count": null,
      "outputs": [
        {
          "output_type": "stream",
          "name": "stdout",
          "text": [
            " 2\n",
            " 10\n",
            " range 2 to 10:\n",
            "2 3 5 7 "
          ]
        }
      ]
    },
    {
      "cell_type": "markdown",
      "source": [
        "# Q 03 Remove empty strings from a list of strings. Ex- lst = [“Rahul”,”John”,””,”Karan”,None,”Vishal”,””]"
      ],
      "metadata": {
        "id": "t9--clx8lMEV"
      }
    },
    {
      "cell_type": "code",
      "source": [
        "lst = [\"Rahul\", \"John\", \"\", \"Karan\", None, \"Vishal\", \"\"]\n",
        "filtered_lst = [item for item in lst if item and item.strip()]\n",
        "\n",
        "print(\" \", filtered_lst)\n"
      ],
      "metadata": {
        "colab": {
          "base_uri": "https://localhost:8080/"
        },
        "id": "5P-Enup8lXEj",
        "outputId": "a9957da7-4c45-466d-bcf6-c3e590a82df8"
      },
      "execution_count": null,
      "outputs": [
        {
          "output_type": "stream",
          "name": "stdout",
          "text": [
            "  ['Rahul', 'John', 'Karan', 'Vishal']\n"
          ]
        }
      ]
    },
    {
      "cell_type": "markdown",
      "source": [
        "# Q 04 Remove all characters from a string except integers. Ex- str = ‘I am 25 years and 15 months old’"
      ],
      "metadata": {
        "id": "CsYeHXDkmPeD"
      }
    },
    {
      "cell_type": "code",
      "source": [
        "input_str = 'I am 25 years and 15 months old'\n",
        "result = ''.join(char for char in input_str if char.isdigit())\n",
        "\n",
        "print(\"after removing non-integer characters:\", result)"
      ],
      "metadata": {
        "colab": {
          "base_uri": "https://localhost:8080/"
        },
        "id": "tX3sd9j1lswB",
        "outputId": "41fbf9da-a8a5-4651-a95a-121f5deb8ff8"
      },
      "execution_count": null,
      "outputs": [
        {
          "output_type": "stream",
          "name": "stdout",
          "text": [
            "after removing non-integer characters: 2515\n"
          ]
        }
      ]
    },
    {
      "cell_type": "markdown",
      "source": [
        "# Q05 Write a program to find words with both alphabets and numbers from an input string. Ex- str = ‘Rahul54 is Data Engineer13 and AI Expert"
      ],
      "metadata": {
        "id": "gL-qLFyKovjy"
      }
    },
    {
      "cell_type": "code",
      "source": [
        "import re\n",
        "\n",
        "def words_with_alphabets_and_numbers(input_str):\n",
        "    pattern = r'\\b\\w*\\d+\\w*\\b'\n",
        "    matches = re.findall(pattern, input_str)\n",
        "\n",
        "    return matches\n",
        "\n",
        "input_str = 'Rahul54 is Data Engineer13 and AI Expert'\n",
        "result = words_with_alphabets_and_numbers(input_str)\n",
        "\n",
        "print(\" \", result)\n"
      ],
      "metadata": {
        "colab": {
          "base_uri": "https://localhost:8080/"
        },
        "id": "N30VLWhimoac",
        "outputId": "a1df8176-13a2-4693-9fe8-1aabd44c6fbe"
      },
      "execution_count": null,
      "outputs": [
        {
          "output_type": "stream",
          "name": "stdout",
          "text": [
            "  ['Rahul54', 'Engineer13']\n"
          ]
        }
      ]
    },
    {
      "cell_type": "markdown",
      "source": [
        "# Q 06 Write a program to find greatest among three integers"
      ],
      "metadata": {
        "id": "u-TzPJv_pnR7"
      }
    },
    {
      "cell_type": "code",
      "source": [
        "def greatest(num1, num2, num3):\n",
        "    greatest = max(number1, number2, number3)\n",
        "    return greatest\n",
        "number1 = int(input())\n",
        "number2 = int(input())\n",
        "number3 = int(input())\n",
        "\n",
        "result = greatest(number1, number2, number3)\n",
        "print(f\" {number1}, {number2}, and {number3} is: {result}\")"
      ],
      "metadata": {
        "colab": {
          "base_uri": "https://localhost:8080/"
        },
        "id": "EX4xMIDnpCvS",
        "outputId": "0593c8bb-fda4-4882-d6d2-53597a49daa8"
      },
      "execution_count": null,
      "outputs": [
        {
          "output_type": "stream",
          "name": "stdout",
          "text": [
            "40\n",
            "50\n",
            "56\n",
            " 40, 50, and 56 is: 56\n"
          ]
        }
      ]
    },
    {
      "cell_type": "markdown",
      "source": [
        "# Q 07 Write a program to swap two numbers using third variable"
      ],
      "metadata": {
        "id": "DoPwK90Mq8dr"
      }
    },
    {
      "cell_type": "code",
      "source": [
        "list =[12, 35, 9, 56, 24]\n",
        "i=0\n",
        "j=4\n",
        "list[i],list[j]=list[j],list[i]\n",
        "list"
      ],
      "metadata": {
        "colab": {
          "base_uri": "https://localhost:8080/"
        },
        "id": "nAcXvbqQpxx_",
        "outputId": "c8efd441-b6d9-4b8c-b0fd-cfad91fbaed0"
      },
      "execution_count": null,
      "outputs": [
        {
          "output_type": "execute_result",
          "data": {
            "text/plain": [
              "[24, 35, 9, 56, 12]"
            ]
          },
          "metadata": {},
          "execution_count": 59
        }
      ]
    },
    {
      "cell_type": "code",
      "source": [
        "def swap_numbers(a, b):\n",
        "    temp = a\n",
        "    a = b\n",
        "    b = temp\n",
        "    return a, b\n",
        "\n",
        "num1 = float(input(\" \"))\n",
        "num2 = float(input(\" \"))\n",
        "\n",
        "print(\"Original values: num1 =\", num1, \", num2 =\", num2)\n",
        "\n",
        "num1, num2 = swap_numbers(num1, num2)\n",
        "\n",
        "print(\"Swapped values: num1 =\", num1, \", num2 =\", num2)\n"
      ],
      "metadata": {
        "colab": {
          "base_uri": "https://localhost:8080/"
        },
        "id": "XtKYUjrPQIK1",
        "outputId": "4cf7bf48-91e9-4668-a427-09432aac77a4"
      },
      "execution_count": null,
      "outputs": [
        {
          "output_type": "stream",
          "name": "stdout",
          "text": [
            " 8\n",
            " 6\n",
            "Original values: num1 = 8.0 , num2 = 6.0\n",
            "Swapped values: num1 = 6.0 , num2 = 8.0\n"
          ]
        }
      ]
    },
    {
      "cell_type": "markdown",
      "source": [
        "# Q 08 Write a program to calculate the power without using POW function using For loop."
      ],
      "metadata": {
        "id": "KDvTL-_EsSUa"
      }
    },
    {
      "cell_type": "code",
      "source": [
        "def calculate_power(base, exponent):\n",
        "    result = 1\n",
        "\n",
        "    for _ in range(exponent):\n",
        "        result *= base\n",
        "\n",
        "    return result\n",
        "\n",
        "base = float(input(\"base: \"))\n",
        "exponent = int(input(\"exponent: \"))\n",
        "\n",
        "result = calculate_power(base, exponent)\n",
        "\n",
        "print(f\"{base} raised to the power of {exponent} is: {result}\")\n"
      ],
      "metadata": {
        "colab": {
          "base_uri": "https://localhost:8080/"
        },
        "id": "2kQi2ZWhrYFI",
        "outputId": "bb0b4993-7856-4905-a873-ee2b7534c587"
      },
      "execution_count": null,
      "outputs": [
        {
          "output_type": "stream",
          "name": "stdout",
          "text": [
            "base: 5\n",
            "exponent: 3\n",
            "5.0 raised to the power of 3 is: 125.0\n"
          ]
        }
      ]
    },
    {
      "cell_type": "markdown",
      "source": [
        "# Q 09 Write a program to calculate the power without using POW function using While loop."
      ],
      "metadata": {
        "id": "1dCVrpUV5MXX"
      }
    },
    {
      "cell_type": "code",
      "source": [
        "def calculate_power(base, exponent):\n",
        "    result = 1\n",
        "    count = 0\n",
        "\n",
        "    while count < exponent:\n",
        "        result *= base\n",
        "        count += 1\n",
        "\n",
        "    return result\n",
        "base = float(input(\"Enter the base: \"))\n",
        "exponent = int(input(\"Enter the exponent: \"))\n",
        "\n",
        "result = calculate_power(base, exponent)\n",
        "\n",
        "print(f\"{base} raised to the power of {exponent} is: {result}\")\n"
      ],
      "metadata": {
        "colab": {
          "base_uri": "https://localhost:8080/"
        },
        "id": "H4WfNpt5tLpH",
        "outputId": "957475dc-98fc-4794-ebce-32fd5b99062b"
      },
      "execution_count": null,
      "outputs": [
        {
          "output_type": "stream",
          "name": "stdout",
          "text": [
            "Enter the base: 5\n",
            "Enter the exponent: 2\n",
            "5.0 raised to the power of 2 is: 25.0\n"
          ]
        }
      ]
    },
    {
      "cell_type": "markdown",
      "source": [
        "# Q 10 Write a program to calculate LCM of given two numbers."
      ],
      "metadata": {
        "id": "DxfbCdU05uRW"
      }
    },
    {
      "cell_type": "code",
      "source": [
        "def calculate_gcd(x, y):\n",
        "    while y:\n",
        "        x, y = y, x % y\n",
        "    return x\n",
        "\n",
        "def calculate_lcm(a, b):\n",
        "    if a == 0 or b == 0:\n",
        "        return 0\n",
        "    else:\n",
        "        return abs(a * b) // calculate_gcd(a, b)\n",
        "\n",
        "num1 = int(input(\"Enter the first number: \"))\n",
        "num2 = int(input(\"Enter the second number: \"))\n",
        "\n",
        "lcm_result = calculate_lcm(num1, num2)\n",
        "\n",
        "print(f\"LCM of {num1} and {num2} is: {lcm_result}\")\n"
      ],
      "metadata": {
        "colab": {
          "base_uri": "https://localhost:8080/"
        },
        "id": "3oE8MehS5hJT",
        "outputId": "015cc868-743e-474e-8669-e43a9413463b"
      },
      "execution_count": null,
      "outputs": [
        {
          "output_type": "stream",
          "name": "stdout",
          "text": [
            "Enter the first number: 10\n",
            "Enter the second number: 20\n",
            "LCM of 10 and 20 is: 20\n"
          ]
        }
      ]
    },
    {
      "cell_type": "code",
      "source": [],
      "metadata": {
        "id": "HDM-pxiD5-5s"
      },
      "execution_count": null,
      "outputs": []
    }
  ]
}